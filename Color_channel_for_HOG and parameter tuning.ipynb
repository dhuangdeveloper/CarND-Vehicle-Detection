{
 "cells": [
  {
   "cell_type": "code",
   "execution_count": 1,
   "metadata": {
    "collapsed": true
   },
   "outputs": [],
   "source": [
    "import matplotlib.image as mpimg\n",
    "import matplotlib.pyplot as plt\n",
    "%matplotlib inline"
   ]
  },
  {
   "cell_type": "code",
   "execution_count": 2,
   "metadata": {
    "collapsed": true
   },
   "outputs": [],
   "source": [
    "from lesson_functions import *\n",
    "import glob\n",
    "import time"
   ]
  },
  {
   "cell_type": "code",
   "execution_count": 3,
   "metadata": {
    "collapsed": true
   },
   "outputs": [],
   "source": [
    "from sklearn.svm import LinearSVC\n",
    "from sklearn.preprocessing import StandardScaler\n",
    "from sklearn.model_selection import train_test_split, PredefinedSplit, cross_val_predict, validation_curve\n",
    "from sklearn.ensemble import RandomForestClassifier\n",
    "from sklearn.model_selection import RandomizedSearchCV"
   ]
  },
  {
   "cell_type": "code",
   "execution_count": 4,
   "metadata": {
    "collapsed": true
   },
   "outputs": [],
   "source": [
    "def train_test_split_with_GTI(X, y, group_id, test_size, random_state):\n",
    "    X_train_list = []\n",
    "    y_train_list = []\n",
    "    X_test_list = []\n",
    "    y_test_list = []\n",
    "    \n",
    "    for c_id in np.unique(group_id):\n",
    "        X_group = X[group_id == c_id,:]\n",
    "        y_group = y[group_id == c_id]\n",
    "        if c_id ==0:\n",
    "            # If this is KTTI data then, split it \n",
    "            X_train, X_test, y_train, y_test = train_test_split(\n",
    "                X_group, y_group, test_size=0.2, random_state=0, stratify=y_group)\n",
    "        else:         \n",
    "            np.random.seed(c_id + random_state)\n",
    "            test_index = np.mod(np.random.randint(0, X_group.shape[0]) + np.arange(0, int(X_group.shape[0] * test_size)),\n",
    "                                 X_group.shape[0])\n",
    "            train_index = list(set(range(0, X_group.shape[0])).difference(set(test_index)))\n",
    "            X_train = X_group[train_index,:]\n",
    "            X_test = X_group[test_index,:]\n",
    "            y_train = y_group[train_index]\n",
    "            y_test = y_group[test_index]\n",
    "            \n",
    "        X_train_list.append(X_train)\n",
    "        y_train_list.append(y_train)\n",
    "        X_test_list.append(X_test)\n",
    "        y_test_list.append(y_test)\n",
    "    return np.concatenate(X_train_list, axis=0), np.concatenate(X_test_list, axis=0), np.concatenate(y_train_list), np.concatenate(y_test_list)"
   ]
  },
  {
   "cell_type": "code",
   "execution_count": 5,
   "metadata": {
    "collapsed": true
   },
   "outputs": [],
   "source": [
    "# create vehicle img list. We mark whether the data belongs to a certain GTI data directory.\n",
    "\n",
    "vehicle_GTI_dirs = ['./data/vehicles/GTI_Far/', './data/vehicles/GTI_Left/', './data/vehicles/GTI_MiddleClose/', './data/vehicles/GTI_Right/']\n",
    "vehicle_img_list = []\n",
    "GTI_group_ids = []\n",
    "cgroup_id = 1\n",
    "for GTI_dir in vehicle_GTI_dirs:\n",
    "    GTI_current_list = glob.glob(GTI_dir + '*.png')  \n",
    "    vehicle_img_list = vehicle_img_list + GTI_current_list   \n",
    "    GTI_group_ids = GTI_group_ids + [np.ones(len(GTI_current_list))*cgroup_id]\n",
    "    cgroup_id += 1\n",
    "KTTI_list = glob.glob('./data/vehicles/KITTI_extracted/*.png')\n",
    "vehicle_img_list = vehicle_img_list+ KTTI_list\n",
    "vehicle_group_id = np.concatenate(GTI_group_ids + [np.zeros(len(KTTI_list))])\n",
    "\n",
    "# create non vehicle img list and group ids for non-vehicle data\n",
    "non_vehicle_img_list = glob.glob('./data/non-vehicles/GTI/*.png') + glob.glob('./data/non-vehicles/Extras/*.png')\n",
    "non_vehicle_group_id = np.zeros(len(non_vehicle_img_list))\n",
    "\n",
    "# load all images\n",
    "vehicle_images =  [cv2_readRGB(w) for w in vehicle_img_list]\n",
    "non_vehicle_images =  [cv2_readRGB(w) for w in non_vehicle_img_list]\n",
    "group_id = np.concatenate([vehicle_group_id, non_vehicle_group_id]).astype(int)"
   ]
  },
  {
   "cell_type": "code",
   "execution_count": 6,
   "metadata": {
    "collapsed": true
   },
   "outputs": [],
   "source": [
    "from sklearn.utils import shuffle\n",
    "def obtain_fold_group(group_id,K):\n",
    "    # divide data into K folds and return the fold index each sample belongs to\n",
    "    test_fold_index = np.zeros_like(group_id)\n",
    "    for c_id in np.unique(group_id):\n",
    "        n_sample_in_group = np.sum(group_id == c_id)\n",
    "        if c_id ==0:\n",
    "            test_fold_index[group_id == c_id] = shuffle(np.floor_divide(np.arange(0, n_sample_in_group), np.ceil(n_sample_in_group/K)),random_state=0) \n",
    "        else:\n",
    "            test_fold_index[group_id == c_id] = np.floor_divide(np.arange(0, n_sample_in_group), np.ceil(n_sample_in_group/K))\n",
    "    return test_fold_index.astype(int)            "
   ]
  },
  {
   "cell_type": "code",
   "execution_count": 7,
   "metadata": {
    "collapsed": true
   },
   "outputs": [],
   "source": [
    "fold_indices = obtain_fold_group(group_id, 5)"
   ]
  },
  {
   "cell_type": "code",
   "execution_count": 8,
   "metadata": {},
   "outputs": [
    {
     "data": {
      "image/png": "[encoded data removed]",
      "text/plain": [
       "<matplotlib.figure.Figure at 0x2260c492c50>"
      ]
     },
     "metadata": {},
     "output_type": "display_data"
    }
   ],
   "source": [
    "from scipy import stats\n",
    "test_fold_dist = stats.itemfreq(fold_indices)\n",
    "plt.bar(test_fold_dist[:,0], test_fold_dist[:,1])\n",
    "plt.title('Distribution of samples in test fold')\n",
    "plt.xlabel('Test fold index')\n",
    "plt.ylabel('Number of data per test fold')\n",
    "plt.savefig('./output_images/test_fold_distribution.png')"
   ]
  },
  {
   "cell_type": "code",
   "execution_count": 9,
   "metadata": {
    "collapsed": true
   },
   "outputs": [],
   "source": [
    "orient = 9  # HOG orientations\n",
    "pix_per_cell = 8 # HOG pixels per cell\n",
    "cell_per_block = 2 # HOG cells per block\n",
    "hog_channel = [0]# Can be 0, 1, 2, or \"ALL\"\n",
    "spatial_size = (16, 16) # Spatial binning dimensions\n",
    "hist_bins = 16    # Number of histogram bins\n",
    "spatial_feat = False # Spatial features on or off\n",
    "hist_feat = False # Histogram features on or off\n",
    "hog_feat = True # HOG features on or off\n",
    "y_start_stop = [400, 700] # Min and max in y to search in slide_window()"
   ]
  },
  {
   "cell_type": "markdown",
   "metadata": {},
   "source": [
    "# Compre HOG Features\n",
    "There are multiple choices of parameters for calculating HOG Features, including color representation and color channel, number of pixels per cell, number of cell per block and number of orientations. \n",
    "The number of cell per blcok should be at least (2 x 2) to address the shadow / variation of lighting conditions. On the other hand, using (3x3) number cells per block would approximately double the number of features required for (2x2), requiring larger number of samples. We will initialize with (2x2) and also perform an experiment with 3x3 to see if there is any advantage. \n",
    "The number of pixels per cell should be chosen so that 1. there are enough data point to form a orientation \"histogram\"; 2. There are enough spatial resolution to recognize the object of interest:"
   ]
  },
  {
   "cell_type": "markdown",
   "metadata": {},
   "source": [
    "## Number of pixels per cell\n",
    "We start with 9 orientations, and try to vary the number of pixels per cell among 4x4, 8x8, 16x16, 32x32"
   ]
  },
  {
   "cell_type": "code",
   "execution_count": 10,
   "metadata": {},
   "outputs": [
    {
     "name": "stderr",
     "output_type": "stream",
     "text": [
      "C:\\App\\conda\\envs\\carnd-term1\\lib\\site-packages\\skimage\\feature\\_hog.py:119: skimage_deprecation: Default value of `block_norm`==`L1` is deprecated and will be changed to `L2-Hys` in v0.15\n",
      "  'be changed to `L2-Hys` in v0.15', skimage_deprecation)\n"
     ]
    },
    {
     "data": {
      "image/png": "[encoded data removed]",
      "text/plain": [
       "<matplotlib.figure.Figure at 0x2261a59d1d0>"
      ]
     },
     "metadata": {},
     "output_type": "display_data"
    }
   ],
   "source": [
    "image_example = cv2_readRGB('./data/vehicles/KITTI_extracted/32.png')\n",
    "plt.figure(figsize=(20,6))\n",
    "plt.subplot(1,5,1)\n",
    "plt.imshow(image_example)\n",
    "jj=1\n",
    "for p_per_cel in [4, 8,16,32]:\n",
    "    jj += 1\n",
    "    \n",
    "    feature_example, hog_image_example = get_hog_features(cv2.cvtColor(image_example, cv2.COLOR_RGB2GRAY),\n",
    "                                                          orient=orient, pix_per_cell=p_per_cel, \n",
    "                                                          cell_per_block=cell_per_block, \n",
    "                                                          vis=True)\n",
    "    plt.subplot(1,5,jj)\n",
    "    plt.imshow(hog_image_example)"
   ]
  },
  {
   "cell_type": "markdown",
   "metadata": {},
   "source": [
    "A quick observation is that 32x32 is unliekly to be useful because the shape of the car is lost in aggregation. \n",
    "On the other hand, for 4x4, there are only 16 data points to compute what is essentially a histogram with 8 bins. This estimate of distribution would have a large standard deviation is that comparable to the expected mean, leading to a very noisy feature vector.\n",
    "\n",
    "We will initialize the experiment with 8x8 pixels per cell and later experiment with 16x16. "
   ]
  },
  {
   "cell_type": "markdown",
   "metadata": {},
   "source": [
    "## Color Channels\n",
    "We use the following setting and compare the performance of HOG features with linear SVM using different channels.\n",
    "- orient = 9 # HOG orientations\n",
    "- pix_per_cell = 8 # HOG pixels per cell\n",
    "- cell_per_block = 2 # HOG cells per block"
   ]
  },
  {
   "cell_type": "code",
   "execution_count": 11,
   "metadata": {
    "collapsed": true
   },
   "outputs": [],
   "source": [
    "color_space_choice = ['RGB','HSV','LUV','HLS','YUV','YCrCb']\n",
    "channel_choice = [[0],[1],[2],[0,1],[1,2],[0,2],[0,1,2]]\n",
    "orient = 9  # HOG orientations\n",
    "pix_per_cell = 8 # HOG pixels per cell\n",
    "cell_per_block = 2 # HOG cells per block\n",
    "hog_channel = [0]# Can be 0, 1, 2, or \"ALL\"\n",
    "spatial_size = (16, 16) # Spatial binning dimensions\n",
    "hist_bins = 16    # Number of histogram bins\n",
    "spatial_feat = False # Spatial features on or off\n",
    "hist_feat = False # Histogram features on or off\n",
    "hog_feat = True # HOG features on or off\n",
    "y_start_stop = [400, 700] # Min and max in y to search in slide_window()"
   ]
  },
  {
   "cell_type": "code",
   "execution_count": 12,
   "metadata": {
    "scrolled": false
   },
   "outputs": [
    {
     "name": "stdout",
     "output_type": "stream",
     "text": [
      "('RGB', [0])\n"
     ]
    },
    {
     "name": "stderr",
     "output_type": "stream",
     "text": [
      "C:\\App\\conda\\envs\\carnd-term1\\lib\\site-packages\\skimage\\feature\\_hog.py:119: skimage_deprecation: Default value of `block_norm`==`L1` is deprecated and will be changed to `L2-Hys` in v0.15\n",
      "  'be changed to `L2-Hys` in v0.15', skimage_deprecation)\n"
     ]
    },
    {
     "name": "stdout",
     "output_type": "stream",
     "text": [
      "46.61 Seconds to train classifier...\n",
      "Train Accuracy of Classifier =  0.9998\n",
      "Test Accuracy of Classifier =  0.9336\n",
      "('RGB', [1])\n",
      "26.09 Seconds to train classifier...\n",
      "Train Accuracy of Classifier =  0.9996\n",
      "Test Accuracy of Classifier =  0.9452\n",
      "('RGB', [2])\n",
      "25.27 Seconds to train classifier...\n",
      "Train Accuracy of Classifier =  0.9999\n",
      "Test Accuracy of Classifier =  0.943\n",
      "('RGB', [0, 1])\n",
      "62.7 Seconds to train classifier...\n",
      "Train Accuracy of Classifier =  1.0\n",
      "Test Accuracy of Classifier =  0.9534\n",
      "('RGB', [1, 2])\n",
      "77.76 Seconds to train classifier...\n",
      "Train Accuracy of Classifier =  1.0\n",
      "Test Accuracy of Classifier =  0.955\n",
      "('RGB', [0, 2])\n",
      "67.02 Seconds to train classifier...\n",
      "Train Accuracy of Classifier =  1.0\n",
      "Test Accuracy of Classifier =  0.9538\n",
      "('RGB', [0, 1, 2])\n",
      "120.39 Seconds to train classifier...\n",
      "Train Accuracy of Classifier =  1.0\n",
      "Test Accuracy of Classifier =  0.9602\n",
      "('HSV', [0])\n",
      "25.97 Seconds to train classifier...\n",
      "Train Accuracy of Classifier =  0.9986\n",
      "Test Accuracy of Classifier =  0.9077\n",
      "('HSV', [1])\n",
      "32.94 Seconds to train classifier...\n",
      "Train Accuracy of Classifier =  0.9968\n",
      "Test Accuracy of Classifier =  0.9031\n",
      "('HSV', [2])\n",
      "19.82 Seconds to train classifier...\n",
      "Train Accuracy of Classifier =  0.9999\n",
      "Test Accuracy of Classifier =  0.9432\n",
      "('HSV', [0, 1])\n",
      "49.33 Seconds to train classifier...\n",
      "Train Accuracy of Classifier =  1.0\n",
      "Test Accuracy of Classifier =  0.9448\n",
      "('HSV', [1, 2])\n"
     ]
    },
    {
     "ename": "KeyboardInterrupt",
     "evalue": "",
     "output_type": "error",
     "traceback": [
      "\u001b[1;31m---------------------------------------------------------------------------\u001b[0m",
      "\u001b[1;31mKeyboardInterrupt\u001b[0m                         Traceback (most recent call last)",
      "\u001b[1;32m<ipython-input-12-fbcf0f6004fc>\u001b[0m in \u001b[0;36m<module>\u001b[1;34m()\u001b[0m\n\u001b[0;32m     31\u001b[0m         train_scores, test_scores = validation_curve(clf, X_train_validate, y_train_validate,\n\u001b[0;32m     32\u001b[0m                                                      \u001b[1;34m'C'\u001b[0m\u001b[1;33m,\u001b[0m \u001b[0mnp\u001b[0m\u001b[1;33m.\u001b[0m\u001b[0marray\u001b[0m\u001b[1;33m(\u001b[0m\u001b[1;33m[\u001b[0m\u001b[1;36m1.0\u001b[0m\u001b[1;33m]\u001b[0m\u001b[1;33m)\u001b[0m\u001b[1;33m,\u001b[0m\u001b[1;33m\u001b[0m\u001b[0m\n\u001b[1;32m---> 33\u001b[1;33m                                                      cv= PredefinedSplit(fold_train_validate), n_jobs=4)\n\u001b[0m\u001b[0;32m     34\u001b[0m         \u001b[1;31m#X_train, X_test, y_train, y_test = train_test_split_with_GTI(scaled_X, y, group_id, test_size=0.2, random_state=0)\u001b[0m\u001b[1;33m\u001b[0m\u001b[1;33m\u001b[0m\u001b[0m\n\u001b[0;32m     35\u001b[0m         \u001b[1;31m# Check the training time for the SVC\u001b[0m\u001b[1;33m\u001b[0m\u001b[1;33m\u001b[0m\u001b[0m\n",
      "\u001b[1;32mC:\\App\\conda\\envs\\carnd-term1\\lib\\site-packages\\sklearn\\model_selection\\_validation.py\u001b[0m in \u001b[0;36mvalidation_curve\u001b[1;34m(estimator, X, y, param_name, param_range, groups, cv, scoring, n_jobs, pre_dispatch, verbose)\u001b[0m\n\u001b[0;32m    954\u001b[0m         \u001b[0mestimator\u001b[0m\u001b[1;33m,\u001b[0m \u001b[0mX\u001b[0m\u001b[1;33m,\u001b[0m \u001b[0my\u001b[0m\u001b[1;33m,\u001b[0m \u001b[0mscorer\u001b[0m\u001b[1;33m,\u001b[0m \u001b[0mtrain\u001b[0m\u001b[1;33m,\u001b[0m \u001b[0mtest\u001b[0m\u001b[1;33m,\u001b[0m \u001b[0mverbose\u001b[0m\u001b[1;33m,\u001b[0m\u001b[1;33m\u001b[0m\u001b[0m\n\u001b[0;32m    955\u001b[0m         parameters={param_name: v}, fit_params=None, return_train_score=True)\n\u001b[1;32m--> 956\u001b[1;33m         for train, test in cv_iter for v in param_range)\n\u001b[0m\u001b[0;32m    957\u001b[0m \u001b[1;33m\u001b[0m\u001b[0m\n\u001b[0;32m    958\u001b[0m     \u001b[0mout\u001b[0m \u001b[1;33m=\u001b[0m \u001b[0mnp\u001b[0m\u001b[1;33m.\u001b[0m\u001b[0masarray\u001b[0m\u001b[1;33m(\u001b[0m\u001b[0mout\u001b[0m\u001b[1;33m)\u001b[0m\u001b[1;33m\u001b[0m\u001b[0m\n",
      "\u001b[1;32mC:\\App\\conda\\envs\\carnd-term1\\lib\\site-packages\\sklearn\\externals\\joblib\\parallel.py\u001b[0m in \u001b[0;36m__call__\u001b[1;34m(self, iterable)\u001b[0m\n\u001b[0;32m    766\u001b[0m                 \u001b[1;31m# consumption.\u001b[0m\u001b[1;33m\u001b[0m\u001b[1;33m\u001b[0m\u001b[0m\n\u001b[0;32m    767\u001b[0m                 \u001b[0mself\u001b[0m\u001b[1;33m.\u001b[0m\u001b[0m_iterating\u001b[0m \u001b[1;33m=\u001b[0m \u001b[1;32mFalse\u001b[0m\u001b[1;33m\u001b[0m\u001b[0m\n\u001b[1;32m--> 768\u001b[1;33m             \u001b[0mself\u001b[0m\u001b[1;33m.\u001b[0m\u001b[0mretrieve\u001b[0m\u001b[1;33m(\u001b[0m\u001b[1;33m)\u001b[0m\u001b[1;33m\u001b[0m\u001b[0m\n\u001b[0m\u001b[0;32m    769\u001b[0m             \u001b[1;31m# Make sure that we get a last message telling us we are done\u001b[0m\u001b[1;33m\u001b[0m\u001b[1;33m\u001b[0m\u001b[0m\n\u001b[0;32m    770\u001b[0m             \u001b[0melapsed_time\u001b[0m \u001b[1;33m=\u001b[0m \u001b[0mtime\u001b[0m\u001b[1;33m.\u001b[0m\u001b[0mtime\u001b[0m\u001b[1;33m(\u001b[0m\u001b[1;33m)\u001b[0m \u001b[1;33m-\u001b[0m \u001b[0mself\u001b[0m\u001b[1;33m.\u001b[0m\u001b[0m_start_time\u001b[0m\u001b[1;33m\u001b[0m\u001b[0m\n",
      "\u001b[1;32mC:\\App\\conda\\envs\\carnd-term1\\lib\\site-packages\\sklearn\\externals\\joblib\\parallel.py\u001b[0m in \u001b[0;36mretrieve\u001b[1;34m(self)\u001b[0m\n\u001b[0;32m    717\u001b[0m                     \u001b[0mensure_ready\u001b[0m \u001b[1;33m=\u001b[0m \u001b[0mself\u001b[0m\u001b[1;33m.\u001b[0m\u001b[0m_managed_backend\u001b[0m\u001b[1;33m\u001b[0m\u001b[0m\n\u001b[0;32m    718\u001b[0m                     \u001b[0mbackend\u001b[0m\u001b[1;33m.\u001b[0m\u001b[0mabort_everything\u001b[0m\u001b[1;33m(\u001b[0m\u001b[0mensure_ready\u001b[0m\u001b[1;33m=\u001b[0m\u001b[0mensure_ready\u001b[0m\u001b[1;33m)\u001b[0m\u001b[1;33m\u001b[0m\u001b[0m\n\u001b[1;32m--> 719\u001b[1;33m                 \u001b[1;32mraise\u001b[0m \u001b[0mexception\u001b[0m\u001b[1;33m\u001b[0m\u001b[0m\n\u001b[0m\u001b[0;32m    720\u001b[0m \u001b[1;33m\u001b[0m\u001b[0m\n\u001b[0;32m    721\u001b[0m     \u001b[1;32mdef\u001b[0m \u001b[0m__call__\u001b[0m\u001b[1;33m(\u001b[0m\u001b[0mself\u001b[0m\u001b[1;33m,\u001b[0m \u001b[0miterable\u001b[0m\u001b[1;33m)\u001b[0m\u001b[1;33m:\u001b[0m\u001b[1;33m\u001b[0m\u001b[0m\n",
      "\u001b[1;32mC:\\App\\conda\\envs\\carnd-term1\\lib\\site-packages\\sklearn\\externals\\joblib\\parallel.py\u001b[0m in \u001b[0;36mretrieve\u001b[1;34m(self)\u001b[0m\n\u001b[0;32m    680\u001b[0m                 \u001b[1;31m# check if timeout supported in backend future implementation\u001b[0m\u001b[1;33m\u001b[0m\u001b[1;33m\u001b[0m\u001b[0m\n\u001b[0;32m    681\u001b[0m                 \u001b[1;32mif\u001b[0m \u001b[1;34m'timeout'\u001b[0m \u001b[1;32min\u001b[0m \u001b[0mgetfullargspec\u001b[0m\u001b[1;33m(\u001b[0m\u001b[0mjob\u001b[0m\u001b[1;33m.\u001b[0m\u001b[0mget\u001b[0m\u001b[1;33m)\u001b[0m\u001b[1;33m.\u001b[0m\u001b[0margs\u001b[0m\u001b[1;33m:\u001b[0m\u001b[1;33m\u001b[0m\u001b[0m\n\u001b[1;32m--> 682\u001b[1;33m                     \u001b[0mself\u001b[0m\u001b[1;33m.\u001b[0m\u001b[0m_output\u001b[0m\u001b[1;33m.\u001b[0m\u001b[0mextend\u001b[0m\u001b[1;33m(\u001b[0m\u001b[0mjob\u001b[0m\u001b[1;33m.\u001b[0m\u001b[0mget\u001b[0m\u001b[1;33m(\u001b[0m\u001b[0mtimeout\u001b[0m\u001b[1;33m=\u001b[0m\u001b[0mself\u001b[0m\u001b[1;33m.\u001b[0m\u001b[0mtimeout\u001b[0m\u001b[1;33m)\u001b[0m\u001b[1;33m)\u001b[0m\u001b[1;33m\u001b[0m\u001b[0m\n\u001b[0m\u001b[0;32m    683\u001b[0m                 \u001b[1;32melse\u001b[0m\u001b[1;33m:\u001b[0m\u001b[1;33m\u001b[0m\u001b[0m\n\u001b[0;32m    684\u001b[0m                     \u001b[0mself\u001b[0m\u001b[1;33m.\u001b[0m\u001b[0m_output\u001b[0m\u001b[1;33m.\u001b[0m\u001b[0mextend\u001b[0m\u001b[1;33m(\u001b[0m\u001b[0mjob\u001b[0m\u001b[1;33m.\u001b[0m\u001b[0mget\u001b[0m\u001b[1;33m(\u001b[0m\u001b[1;33m)\u001b[0m\u001b[1;33m)\u001b[0m\u001b[1;33m\u001b[0m\u001b[0m\n",
      "\u001b[1;32mC:\\App\\conda\\envs\\carnd-term1\\lib\\multiprocessing\\pool.py\u001b[0m in \u001b[0;36mget\u001b[1;34m(self, timeout)\u001b[0m\n\u001b[0;32m    600\u001b[0m \u001b[1;33m\u001b[0m\u001b[0m\n\u001b[0;32m    601\u001b[0m     \u001b[1;32mdef\u001b[0m \u001b[0mget\u001b[0m\u001b[1;33m(\u001b[0m\u001b[0mself\u001b[0m\u001b[1;33m,\u001b[0m \u001b[0mtimeout\u001b[0m\u001b[1;33m=\u001b[0m\u001b[1;32mNone\u001b[0m\u001b[1;33m)\u001b[0m\u001b[1;33m:\u001b[0m\u001b[1;33m\u001b[0m\u001b[0m\n\u001b[1;32m--> 602\u001b[1;33m         \u001b[0mself\u001b[0m\u001b[1;33m.\u001b[0m\u001b[0mwait\u001b[0m\u001b[1;33m(\u001b[0m\u001b[0mtimeout\u001b[0m\u001b[1;33m)\u001b[0m\u001b[1;33m\u001b[0m\u001b[0m\n\u001b[0m\u001b[0;32m    603\u001b[0m         \u001b[1;32mif\u001b[0m \u001b[1;32mnot\u001b[0m \u001b[0mself\u001b[0m\u001b[1;33m.\u001b[0m\u001b[0mready\u001b[0m\u001b[1;33m(\u001b[0m\u001b[1;33m)\u001b[0m\u001b[1;33m:\u001b[0m\u001b[1;33m\u001b[0m\u001b[0m\n\u001b[0;32m    604\u001b[0m             \u001b[1;32mraise\u001b[0m \u001b[0mTimeoutError\u001b[0m\u001b[1;33m\u001b[0m\u001b[0m\n",
      "\u001b[1;32mC:\\App\\conda\\envs\\carnd-term1\\lib\\multiprocessing\\pool.py\u001b[0m in \u001b[0;36mwait\u001b[1;34m(self, timeout)\u001b[0m\n\u001b[0;32m    597\u001b[0m \u001b[1;33m\u001b[0m\u001b[0m\n\u001b[0;32m    598\u001b[0m     \u001b[1;32mdef\u001b[0m \u001b[0mwait\u001b[0m\u001b[1;33m(\u001b[0m\u001b[0mself\u001b[0m\u001b[1;33m,\u001b[0m \u001b[0mtimeout\u001b[0m\u001b[1;33m=\u001b[0m\u001b[1;32mNone\u001b[0m\u001b[1;33m)\u001b[0m\u001b[1;33m:\u001b[0m\u001b[1;33m\u001b[0m\u001b[0m\n\u001b[1;32m--> 599\u001b[1;33m         \u001b[0mself\u001b[0m\u001b[1;33m.\u001b[0m\u001b[0m_event\u001b[0m\u001b[1;33m.\u001b[0m\u001b[0mwait\u001b[0m\u001b[1;33m(\u001b[0m\u001b[0mtimeout\u001b[0m\u001b[1;33m)\u001b[0m\u001b[1;33m\u001b[0m\u001b[0m\n\u001b[0m\u001b[0;32m    600\u001b[0m \u001b[1;33m\u001b[0m\u001b[0m\n\u001b[0;32m    601\u001b[0m     \u001b[1;32mdef\u001b[0m \u001b[0mget\u001b[0m\u001b[1;33m(\u001b[0m\u001b[0mself\u001b[0m\u001b[1;33m,\u001b[0m \u001b[0mtimeout\u001b[0m\u001b[1;33m=\u001b[0m\u001b[1;32mNone\u001b[0m\u001b[1;33m)\u001b[0m\u001b[1;33m:\u001b[0m\u001b[1;33m\u001b[0m\u001b[0m\n",
      "\u001b[1;32mC:\\App\\conda\\envs\\carnd-term1\\lib\\threading.py\u001b[0m in \u001b[0;36mwait\u001b[1;34m(self, timeout)\u001b[0m\n\u001b[0;32m    547\u001b[0m             \u001b[0msignaled\u001b[0m \u001b[1;33m=\u001b[0m \u001b[0mself\u001b[0m\u001b[1;33m.\u001b[0m\u001b[0m_flag\u001b[0m\u001b[1;33m\u001b[0m\u001b[0m\n\u001b[0;32m    548\u001b[0m             \u001b[1;32mif\u001b[0m \u001b[1;32mnot\u001b[0m \u001b[0msignaled\u001b[0m\u001b[1;33m:\u001b[0m\u001b[1;33m\u001b[0m\u001b[0m\n\u001b[1;32m--> 549\u001b[1;33m                 \u001b[0msignaled\u001b[0m \u001b[1;33m=\u001b[0m \u001b[0mself\u001b[0m\u001b[1;33m.\u001b[0m\u001b[0m_cond\u001b[0m\u001b[1;33m.\u001b[0m\u001b[0mwait\u001b[0m\u001b[1;33m(\u001b[0m\u001b[0mtimeout\u001b[0m\u001b[1;33m)\u001b[0m\u001b[1;33m\u001b[0m\u001b[0m\n\u001b[0m\u001b[0;32m    550\u001b[0m             \u001b[1;32mreturn\u001b[0m \u001b[0msignaled\u001b[0m\u001b[1;33m\u001b[0m\u001b[0m\n\u001b[0;32m    551\u001b[0m \u001b[1;33m\u001b[0m\u001b[0m\n",
      "\u001b[1;32mC:\\App\\conda\\envs\\carnd-term1\\lib\\threading.py\u001b[0m in \u001b[0;36mwait\u001b[1;34m(self, timeout)\u001b[0m\n\u001b[0;32m    291\u001b[0m         \u001b[1;32mtry\u001b[0m\u001b[1;33m:\u001b[0m    \u001b[1;31m# restore state no matter what (e.g., KeyboardInterrupt)\u001b[0m\u001b[1;33m\u001b[0m\u001b[0m\n\u001b[0;32m    292\u001b[0m             \u001b[1;32mif\u001b[0m \u001b[0mtimeout\u001b[0m \u001b[1;32mis\u001b[0m \u001b[1;32mNone\u001b[0m\u001b[1;33m:\u001b[0m\u001b[1;33m\u001b[0m\u001b[0m\n\u001b[1;32m--> 293\u001b[1;33m                 \u001b[0mwaiter\u001b[0m\u001b[1;33m.\u001b[0m\u001b[0macquire\u001b[0m\u001b[1;33m(\u001b[0m\u001b[1;33m)\u001b[0m\u001b[1;33m\u001b[0m\u001b[0m\n\u001b[0m\u001b[0;32m    294\u001b[0m                 \u001b[0mgotit\u001b[0m \u001b[1;33m=\u001b[0m \u001b[1;32mTrue\u001b[0m\u001b[1;33m\u001b[0m\u001b[0m\n\u001b[0;32m    295\u001b[0m             \u001b[1;32melse\u001b[0m\u001b[1;33m:\u001b[0m\u001b[1;33m\u001b[0m\u001b[0m\n",
      "\u001b[1;31mKeyboardInterrupt\u001b[0m: "
     ]
    }
   ],
   "source": [
    "result = {}\n",
    "\n",
    "for color_space in color_space_choice:\n",
    "    for hog_channel in channel_choice:\n",
    "        print((color_space, hog_channel))\n",
    "        car_features = extract_features(vehicle_images, color_space=color_space, \n",
    "                                spatial_size=spatial_size, hist_bins=hist_bins, \n",
    "                                orient=orient, pix_per_cell=pix_per_cell, \n",
    "                                cell_per_block=cell_per_block, \n",
    "                                hog_channel=hog_channel, spatial_feat=spatial_feat, \n",
    "                                hist_feat=hist_feat, hog_feat=hog_feat)\n",
    "        notcar_features = extract_features(non_vehicle_images, color_space=color_space, \n",
    "                                spatial_size=spatial_size, hist_bins=hist_bins, \n",
    "                                orient=orient, pix_per_cell=pix_per_cell, \n",
    "                                cell_per_block=cell_per_block, \n",
    "                                hog_channel=hog_channel, spatial_feat=spatial_feat, \n",
    "                                hist_feat=hist_feat, hog_feat=hog_feat)\n",
    "        X = np.vstack((car_features, notcar_features)).astype(np.float64)                        \n",
    "        X_scaler = StandardScaler().fit(X)\n",
    "        scaled_X = X_scaler.transform(X)\n",
    "        y = np.hstack((np.ones(len(car_features)), np.zeros(len(notcar_features))))\n",
    "\n",
    "        X_train_validate = scaled_X[fold_indices!=0,:]\n",
    "        y_train_validate = y[fold_indices!=0]\n",
    "        fold_train_validate = fold_indices[fold_indices!=0]        \n",
    "\n",
    "        clf = LinearSVC()\n",
    "        \n",
    "        # \n",
    "        t=time.time()\n",
    "        train_scores, test_scores = validation_curve(clf, X_train_validate, y_train_validate,\n",
    "                                                     'C', np.array([1.0]),\n",
    "                                                     cv= PredefinedSplit(fold_train_validate), n_jobs=4)\n",
    "        #X_train, X_test, y_train, y_test = train_test_split_with_GTI(scaled_X, y, group_id, test_size=0.2, random_state=0)\n",
    "        # Check the training time for the SVC                        \n",
    "        t2 = time.time()\n",
    "        print(round(t2-t, 2), 'Seconds to train classifier...')\n",
    "        # Check the score of the SVC\n",
    "        print('Train Accuracy of Classifier = ', round(np.mean(train_scores), 4))\n",
    "        print('Test Accuracy of Classifier = ', round(np.mean(test_scores), 4))\n",
    "        # Check the prediction time for a single sample\n",
    "        result[(color_space, str(hog_channel))] = {'train': train_scores,\n",
    "                                                   'test': test_scores,\n",
    "                                                   'scaler': X_scaler}\n",
    "result_l2 = result        "
   ]
  },
  {
   "cell_type": "code",
   "execution_count": null,
   "metadata": {},
   "outputs": [],
   "source": [
    "import pandas as pd\n",
    "result_df_list = []\n",
    "for key, val in result.items():\n",
    "    result_df_list.append(pd.DataFrame({'train_accuracy': val['train'].mean(), 'train_std': val['train'].std(), 'test_accuracy': val['test'].mean(),\n",
    "                                        'test_std': val['test'].std()}, index=[key]))\n",
    "                 \n",
    "    \n",
    "result_df = pd.concat(result_df_list, axis=0)\n",
    "result_df.sort_values('test_accuracy', ascending=False)"
   ]
  },
  {
   "cell_type": "code",
   "execution_count": null,
   "metadata": {},
   "outputs": [],
   "source": [
    "result_df.sort_values('test_accuracy', ascending=False)"
   ]
  },
  {
   "cell_type": "markdown",
   "metadata": {},
   "source": [
    "We observe that the top channels with best test accuracy is luminance Y in YUV/YCrCb color space. Other top results include L in LUV color space and V in HSV color space, of which both are closely related to Y, and RGB channels. We also observe that the other two channels in YUV / LUV has significantly worse performance. This all supports using Y channel for vehicle recognition. "
   ]
  },
  {
   "cell_type": "code",
   "execution_count": null,
   "metadata": {
    "scrolled": false
   },
   "outputs": [],
   "source": [
    "color_space_choice = ['LUV','HLS','YUV','YCrCb']\n",
    "channel_choice = [[0],[1],[2],[0,1],[1,2],[0,2],[0,1,2]]\n",
    "orient = 9  # HOG orientations\n",
    "pix_per_cell = 8 # HOG pixels per cell\n",
    "cell_per_block = 2 # HOG cells per block\n",
    "hog_channel = [0]# Can be 0, 1, 2, or \"ALL\"\n",
    "spatial_size = (16, 16) # Spatial binning dimensions\n",
    "hist_bins = 16    # Number of histogram bins\n",
    "spatial_feat = True # Spatial features on or off\n",
    "hist_feat = True # Histogram features on or off\n",
    "hog_feat = True # HOG features on or off\n",
    "y_start_stop = [400, 700] # Min and max in y to search in slide_window()\n",
    "\n",
    "result = {}\n",
    "\n",
    "for color_space in color_space_choice:\n",
    "    for hog_channel in channel_choice:\n",
    "        print((color_space, hog_channel))\n",
    "        car_features = extract_features(vehicle_images, color_space=color_space, \n",
    "                                spatial_size=spatial_size, hist_bins=hist_bins, \n",
    "                                orient=orient, pix_per_cell=pix_per_cell, \n",
    "                                cell_per_block=cell_per_block, \n",
    "                                hog_channel=hog_channel, spatial_feat=spatial_feat, \n",
    "                                hist_feat=hist_feat, hog_feat=hog_feat)\n",
    "        notcar_features = extract_features(non_vehicle_images, color_space=color_space, \n",
    "                                spatial_size=spatial_size, hist_bins=hist_bins, \n",
    "                                orient=orient, pix_per_cell=pix_per_cell, \n",
    "                                cell_per_block=cell_per_block, \n",
    "                                hog_channel=hog_channel, spatial_feat=spatial_feat, \n",
    "                                hist_feat=hist_feat, hog_feat=hog_feat)\n",
    "        X = np.vstack((car_features, notcar_features)).astype(np.float64)                        \n",
    "        X_scaler = StandardScaler().fit(X)\n",
    "        scaled_X = X_scaler.transform(X)\n",
    "        y = np.hstack((np.ones(len(car_features)), np.zeros(len(notcar_features))))\n",
    "\n",
    "        X_train_validate = scaled_X[fold_indices!=0,:]\n",
    "        y_train_validate = y[fold_indices!=0]\n",
    "        fold_train_validate = fold_indices[fold_indices!=0]        \n",
    "\n",
    "        clf = LinearSVC()\n",
    "        \n",
    "        # \n",
    "        t=time.time()\n",
    "        train_scores, test_scores = validation_curve(clf, X_train_validate, y_train_validate,\n",
    "                                                     'C', np.array([1.0]),\n",
    "                                                     cv= PredefinedSplit(fold_train_validate), n_jobs=4)\n",
    "        #X_train, X_test, y_train, y_test = train_test_split_with_GTI(scaled_X, y, group_id, test_size=0.2, random_state=0)\n",
    "        # Check the training time for the SVC                        \n",
    "        t2 = time.time()\n",
    "        print(round(t2-t, 2), 'Seconds to train classifier...')\n",
    "        # Check the score of the SVC\n",
    "        print('Train Accuracy of Classifier = ', round(np.mean(train_scores), 4))\n",
    "        print('Test Accuracy of Classifier = ', round(np.mean(test_scores), 4))\n",
    "        # Check the prediction time for a single sample\n",
    "        result[(color_space, str(hog_channel))] = {'train': train_scores,\n",
    "                                                   'test': test_scores,\n",
    "                                                   'scaler': X_scaler}"
   ]
  },
  {
   "cell_type": "code",
   "execution_count": null,
   "metadata": {},
   "outputs": [],
   "source": [
    "import pandas as pd\n",
    "result_df_list = []\n",
    "for key, val in result.items():\n",
    "    result_df_list.append(pd.DataFrame({'train_accuracy': val['train'].mean(), 'train_std': val['train'].std(), 'test_accuracy': val['test'].mean(),\n",
    "                                        'test_std': val['test'].std()}, index=[key]))\n",
    "                 \n",
    "    \n",
    "result_df = pd.concat(result_df_list, axis=0)\n",
    "result_df.sort_values('test_accuracy', ascending=False)"
   ]
  },
  {
   "cell_type": "markdown",
   "metadata": {},
   "source": [
    "### HOGs features from Y Channel"
   ]
  },
  {
   "cell_type": "code",
   "execution_count": null,
   "metadata": {
    "collapsed": true
   },
   "outputs": [],
   "source": [
    "# define image examples\n",
    "car_examples = [cv2_readRGB(w) for w in ['./data/vehicles/KITTI_extracted/32.png', './data/vehicles/KITTI_extracted/33.png', \n",
    "                                        './data/vehicles/KITTI_extracted/37.png', './data/vehicles/KITTI_extracted/125.png']]\n",
    "noncar_examples = [cv2_readRGB(w) for w in ['./data/non-vehicles/GTI/image116.png', './data/non-vehicles/GTI/image306.png',\n",
    "                                            './data/non-vehicles/GTI/image366.png', './data/non-vehicles/GTI/image440.png']]                                        "
   ]
  },
  {
   "cell_type": "code",
   "execution_count": null,
   "metadata": {
    "scrolled": false
   },
   "outputs": [],
   "source": [
    "f, axes = plt.subplots(4,8, sharex='row', figsize = (20,8))\n",
    "jj = 0\n",
    "for img in car_examples:\n",
    "    img_channel = cv2.cvtColor(img, cv2.COLOR_RGB2YUV)[:,:,0]\n",
    "    car_features, car_hog_image = get_hog_features(img_channel,\n",
    "                                                   orient=orient, pix_per_cell=pix_per_cell, \n",
    "                                                   cell_per_block=cell_per_block, \n",
    "                                                   vis=True)\n",
    "    #plt.subplot(3, 8, jj)\n",
    "    axes[0, jj].imshow(img)\n",
    "    axes[1, jj].imshow(img_channel, 'gray')\n",
    "    #plt.subplot(3, 8, jj+8)\n",
    "    axes[2, jj].imshow(car_hog_image, 'gray')            \n",
    "    axes[3, jj].barh(np.arange(0, len(car_features)), car_features)\n",
    "    jj += 1\n",
    "\n",
    "\n",
    "for img in noncar_examples:\n",
    "    img_channel =  cv2.cvtColor(img, cv2.COLOR_RGB2YUV)[:,:,0]      \n",
    "    noncar_features, noncar_hog_image = get_hog_features(img_channel,\n",
    "                                                   orient=orient, pix_per_cell=pix_per_cell, \n",
    "                                                   cell_per_block=cell_per_block, \n",
    "                                                   vis=True)        \n",
    "    #lt.subplot(3, 8, jj)\n",
    "    axes[0, jj].imshow(img)\n",
    "    axes[1, jj].imshow(img_channel, 'gray')\n",
    "    #lt.subplot(3, 8, jj+8)\n",
    "    axes[2, jj].imshow(noncar_hog_image, 'gray')            \n",
    "    #lt.subplot(3, 8, jj+16)\n",
    "    axes[3, jj].barh(np.arange(0, len(noncar_features)), noncar_features)\n",
    "    jj += 1\n"
   ]
  },
  {
   "cell_type": "markdown",
   "metadata": {},
   "source": [
    "## Pixels per cell of HOG"
   ]
  },
  {
   "cell_type": "code",
   "execution_count": null,
   "metadata": {},
   "outputs": [],
   "source": [
    "orient = 9  # HOG orientations\n",
    "color_space = 'YUV' \n",
    "hog_channel = [0] # Can be 0, 1, 2, or \"ALL\"\n",
    "spatial_size = (16, 16) # Spatial binning dimensions\n",
    "hist_bins = 16    # Number of histogram bins\n",
    "spatial_feat = False # Spatial features on or off\n",
    "hist_feat = False # Histogram features on or off\n",
    "hog_feat = True # HOG features on or off\n",
    "\n",
    "result = {}\n",
    "\n",
    "for pix_per_cell in [8,16]:   \n",
    "    for cell_per_block in [1, 2, 3]:\n",
    "        print((pix_per_cell, cell_per_block))\n",
    "        car_features = extract_features(vehicle_images, color_space=color_space, \n",
    "                                spatial_size=spatial_size, hist_bins=hist_bins, \n",
    "                                orient=orient, pix_per_cell=pix_per_cell, \n",
    "                                cell_per_block=cell_per_block, \n",
    "                                hog_channel=hog_channel, spatial_feat=spatial_feat, \n",
    "                                hist_feat=hist_feat, hog_feat=hog_feat)\n",
    "        notcar_features = extract_features(non_vehicle_images, color_space=color_space, \n",
    "                                spatial_size=spatial_size, hist_bins=hist_bins, \n",
    "                                orient=orient, pix_per_cell=pix_per_cell, \n",
    "                                cell_per_block=cell_per_block, \n",
    "                                hog_channel=hog_channel, spatial_feat=spatial_feat, \n",
    "                                hist_feat=hist_feat, hog_feat=hog_feat)\n",
    "        X = np.vstack((car_features, notcar_features)).astype(np.float64)                        \n",
    "        X_scaler = StandardScaler().fit(X)\n",
    "        scaled_X = X_scaler.transform(X)\n",
    "        y = np.hstack((np.ones(len(car_features)), np.zeros(len(notcar_features))))\n",
    "\n",
    "        X_train_validate = scaled_X[fold_indices!=0,:]\n",
    "        y_train_validate = y[fold_indices!=0]\n",
    "        fold_train_validate = fold_indices[fold_indices!=0]        \n",
    "\n",
    "        clf = LinearSVC()\n",
    "        \n",
    "        # \n",
    "        t=time.time()\n",
    "        train_scores, test_scores = validation_curve(clf, X_train_validate, y_train_validate,\n",
    "                                                     'C', np.array([1.0]),\n",
    "                                                     cv= PredefinedSplit(fold_train_validate), n_jobs=5)\n",
    "        #X_train, X_test, y_train, y_test = train_test_split_with_GTI(scaled_X, y, group_id, test_size=0.2, random_state=0)\n",
    "        # Check the training time for the SVC                        \n",
    "        t2 = time.time()\n",
    "        print(round(t2-t, 2), 'Seconds to train classifier...')\n",
    "        # Check the score of the SVC\n",
    "        print('Train Accuracy of Classifier = ', round(np.mean(train_scores), 4))\n",
    "        print('Test Accuracy of Classifier = ', round(np.mean(test_scores), 4))\n",
    "        # Check the prediction time for a single sample\n",
    "        result[(pix_per_cell, cell_per_block)] = {'train': train_scores,\n",
    "                                              'test': test_scores,\n",
    "                                              'scaler': X_scaler}\n"
   ]
  },
  {
   "cell_type": "code",
   "execution_count": null,
   "metadata": {},
   "outputs": [],
   "source": [
    "orient = 9  # HOG orientations\n",
    "color_space = 'YCrCb' \n",
    "hog_channel = [0,1] # Can be 0, 1, 2, or \"ALL\"\n",
    "spatial_size = (16, 16) # Spatial binning dimensions\n",
    "hist_bins = 16    # Number of histogram bins\n",
    "spatial_feat = False # Spatial features on or off\n",
    "hist_feat = False # Histogram features on or off\n",
    "hog_feat = True # HOG features on or off\n",
    "\n",
    "result = {}\n",
    "\n",
    "for pix_per_cell in [8,16]:   \n",
    "    for cell_per_block in [1, 2, 3]:\n",
    "        print((pix_per_cell, cell_per_block))\n",
    "        car_features = extract_features(vehicle_images, color_space=color_space, \n",
    "                                spatial_size=spatial_size, hist_bins=hist_bins, \n",
    "                                orient=orient, pix_per_cell=pix_per_cell, \n",
    "                                cell_per_block=cell_per_block, \n",
    "                                hog_channel=hog_channel, spatial_feat=spatial_feat, \n",
    "                                hist_feat=hist_feat, hog_feat=hog_feat)\n",
    "        notcar_features = extract_features(non_vehicle_images, color_space=color_space, \n",
    "                                spatial_size=spatial_size, hist_bins=hist_bins, \n",
    "                                orient=orient, pix_per_cell=pix_per_cell, \n",
    "                                cell_per_block=cell_per_block, \n",
    "                                hog_channel=hog_channel, spatial_feat=spatial_feat, \n",
    "                                hist_feat=hist_feat, hog_feat=hog_feat)\n",
    "        X = np.vstack((car_features, notcar_features)).astype(np.float64)                        \n",
    "        X_scaler = StandardScaler().fit(X)\n",
    "        scaled_X = X_scaler.transform(X)\n",
    "        y = np.hstack((np.ones(len(car_features)), np.zeros(len(notcar_features))))\n",
    "\n",
    "        X_train_validate = scaled_X[fold_indices!=0,:]\n",
    "        y_train_validate = y[fold_indices!=0]\n",
    "        fold_train_validate = fold_indices[fold_indices!=0]        \n",
    "\n",
    "        clf = LinearSVC()\n",
    "        \n",
    "        # \n",
    "        t=time.time()\n",
    "        train_scores, test_scores = validation_curve(clf, X_train_validate, y_train_validate,\n",
    "                                                     'C', np.array([1.0]),\n",
    "                                                     cv= PredefinedSplit(fold_train_validate), n_jobs=5)\n",
    "        #X_train, X_test, y_train, y_test = train_test_split_with_GTI(scaled_X, y, group_id, test_size=0.2, random_state=0)\n",
    "        # Check the training time for the SVC                        \n",
    "        t2 = time.time()\n",
    "        print(round(t2-t, 2), 'Seconds to train classifier...')\n",
    "        # Check the score of the SVC\n",
    "        print('Train Accuracy of Classifier = ', round(np.mean(train_scores), 4))\n",
    "        print('Test Accuracy of Classifier = ', round(np.mean(test_scores), 4))\n",
    "        # Check the prediction time for a single sample\n",
    "        result[(pix_per_cell, cell_per_block)] = {'train': train_scores,\n",
    "                                              'test': test_scores,\n",
    "                                              'scaler': X_scaler}\n"
   ]
  },
  {
   "cell_type": "code",
   "execution_count": null,
   "metadata": {},
   "outputs": [],
   "source": [
    "orient = 9  # HOG orientations\n",
    "color_space = 'YCrCb' \n",
    "hog_channel = [0,1] # Can be 0, 1, 2, or \"ALL\"\n",
    "spatial_size = (16, 16) # Spatial binning dimensions\n",
    "hist_bins = 16    # Number of histogram bins\n",
    "pix_per_cell = 8 # HOG pixels per cell\n",
    "cell_per_block = 2 # HOG cells per block\n",
    "spatial_feat = True # Spatial features on or off\n",
    "hist_feat = True # Histogram features on or off\n",
    "hog_feat = True # HOG features on or off\n",
    "\n",
    "result = {}\n",
    "\n",
    "for spatial_size in [(16,16), (32,32)]:   \n",
    "    for hist_bins in [8, 16, 32]:\n",
    "        print((spatial_size, hist_bins))\n",
    "        car_features = extract_features(vehicle_images, color_space=color_space, \n",
    "                                spatial_size=spatial_size, hist_bins=hist_bins, \n",
    "                                orient=orient, pix_per_cell=pix_per_cell, \n",
    "                                cell_per_block=cell_per_block, \n",
    "                                hog_channel=hog_channel, spatial_feat=spatial_feat, \n",
    "                                hist_feat=hist_feat, hog_feat=hog_feat)\n",
    "        notcar_features = extract_features(non_vehicle_images, color_space=color_space, \n",
    "                                spatial_size=spatial_size, hist_bins=hist_bins, \n",
    "                                orient=orient, pix_per_cell=pix_per_cell, \n",
    "                                cell_per_block=cell_per_block, \n",
    "                                hog_channel=hog_channel, spatial_feat=spatial_feat, \n",
    "                                hist_feat=hist_feat, hog_feat=hog_feat)\n",
    "        X = np.vstack((car_features, notcar_features)).astype(np.float64)                        \n",
    "        X_scaler = StandardScaler().fit(X)\n",
    "        scaled_X = X_scaler.transform(X)\n",
    "        y = np.hstack((np.ones(len(car_features)), np.zeros(len(notcar_features))))\n",
    "\n",
    "        X_train_validate = scaled_X[fold_indices!=0,:]\n",
    "        y_train_validate = y[fold_indices!=0]\n",
    "        fold_train_validate = fold_indices[fold_indices!=0]        \n",
    "\n",
    "        clf = LinearSVC()\n",
    "        \n",
    "        # \n",
    "        t=time.time()\n",
    "        train_scores, test_scores = validation_curve(clf, X_train_validate, y_train_validate,\n",
    "                                                     'C', np.array([1.0]),\n",
    "                                                     cv= PredefinedSplit(fold_train_validate), n_jobs=5)\n",
    "        #X_train, X_test, y_train, y_test = train_test_split_with_GTI(scaled_X, y, group_id, test_size=0.2, random_state=0)\n",
    "        # Check the training time for the SVC                        \n",
    "        t2 = time.time()\n",
    "        print(round(t2-t, 2), 'Seconds to train classifier...')\n",
    "        # Check the score of the SVC\n",
    "        print('Train Accuracy of Classifier = ', round(np.mean(train_scores), 4))\n",
    "        print('Test Accuracy of Classifier = ', round(np.mean(test_scores), 4))\n",
    "        # Check the prediction time for a single sample\n",
    "        result[(spatial_size, hist_bins)] = {'train': train_scores,\n",
    "                                              'test': test_scores,\n",
    "                                              'scaler': X_scaler}\n"
   ]
  },
  {
   "cell_type": "code",
   "execution_count": null,
   "metadata": {
    "collapsed": true
   },
   "outputs": [],
   "source": []
  }
 ],
 "metadata": {
  "kernelspec": {
   "display_name": "Python 3",
   "language": "python",
   "name": "python3"
  },
  "language_info": {
   "codemirror_mode": {
    "name": "ipython",
    "version": 3
   },
   "file_extension": ".py",
   "mimetype": "text/x-python",
   "name": "python",
   "nbconvert_exporter": "python",
   "pygments_lexer": "ipython3",
   "version": "3.5.2"
  },
  "widgets": {
   "state": {},
   "version": "1.1.2"
  }
 },
 "nbformat": 4,
 "nbformat_minor": 2
}
