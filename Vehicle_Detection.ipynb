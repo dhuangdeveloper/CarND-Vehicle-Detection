{
 "cells": [
  {
   "cell_type": "markdown",
   "metadata": {},
   "source": [
    "# Vehicle Detection Project"
   ]
  },
  {
   "cell_type": "code",
   "execution_count": 2,
   "metadata": {
    "collapsed": true
   },
   "outputs": [],
   "source": [
    "import matplotlib.image as mpimg\n",
    "import matplotlib.pyplot as plt\n",
    "%matplotlib inline"
   ]
  },
  {
   "cell_type": "code",
   "execution_count": 3,
   "metadata": {},
   "outputs": [],
   "source": [
    "from lesson_functions import *\n",
    "import glob\n",
    "import time"
   ]
  },
  {
   "cell_type": "code",
   "execution_count": 18,
   "metadata": {},
   "outputs": [],
   "source": [
    "# create vehicle img list. We mark whether the data belongs to a certain GTI data directory.\n",
    "\n",
    "vehicle_GTI_dirs = ['./data/vehicles/GTI_Far/', './data/vehicles/GTI_Left/', './data/vehicles/GTI_MiddleClose/', './data/vehicles/GTI_Right/']\n",
    "vehicle_img_list = []\n",
    "GTI_group_ids = []\n",
    "cgroup_id = 1\n",
    "for GTI_dir in vehicle_GTI_dirs:\n",
    "    GTI_current_list = glob.glob(GTI_dir + '*.png')  \n",
    "    vehicle_img_list = vehicle_img_list + GTI_current_list   \n",
    "    GTI_group_ids = GTI_group_ids + [np.ones(len(GTI_current_list))*cgroup_id]\n",
    "    cgroup_id += 1\n",
    "KTTI_list = glob.glob('./data/vehicles/KITTI_extracted/*.png')\n",
    "vehicle_img_list = vehicle_img_list+ KTTI_list\n",
    "vehicle_group_id = np.concatenate(GTI_group_ids + [np.zeros(len(KTTI_list))])"
   ]
  },
  {
   "cell_type": "code",
   "execution_count": 16,
   "metadata": {},
   "outputs": [],
   "source": [
    "# create vehicle img list and group ids for non-vehicle data\n",
    "# note that GTI image for non-vehicle does not have constant width name, therefore we need to sort it.\n",
    "non_vehicle_img_list = glob.glob('./data/non-vehicles/GTI/*.png') + glob.glob('./data/non-vehicles/Extras/*.png')\n",
    "non_vehicle_group_id = np.zeros(len(non_vehicle_img_list))"
   ]
  },
  {
   "cell_type": "code",
   "execution_count": 6,
   "metadata": {
    "collapsed": true
   },
   "outputs": [],
   "source": [
    "vehicle_images =  [cv2_readRGB(w) for w in vehicle_img_list]\n",
    "non_vehicle_images =  [cv2_readRGB(w) for w in non_vehicle_img_list]\n"
   ]
  },
  {
   "cell_type": "code",
   "execution_count": 7,
   "metadata": {
    "collapsed": true
   },
   "outputs": [],
   "source": [
    "from sklearn.svm import LinearSVC\n",
    "from sklearn.preprocessing import StandardScaler\n",
    "from sklearn.model_selection import train_test_split\n",
    "from sklearn.ensemble import RandomForestClassifier\n",
    "from sklearn.model_selection import RandomizedSearchCV"
   ]
  },
  {
   "cell_type": "code",
   "execution_count": 14,
   "metadata": {
    "collapsed": true
   },
   "outputs": [],
   "source": [
    "color_space = 'HLS' # Can be RGB, HSV, LUV, HLS, YUV, YCrCb\n",
    "orient = 8  # HOG orientations\n",
    "pix_per_cell = 8 # HOG pixels per cell\n",
    "cell_per_block = 2 # HOG cells per block\n",
    "hog_channel = 'ALL' # Can be 0, 1, 2, or \"ALL\"\n",
    "spatial_size = (16, 16) # Spatial binning dimensions\n",
    "hist_bins = 16    # Number of histogram bins\n",
    "spatial_feat = False # Spatial features on or off\n",
    "hist_feat = False # Histogram features on or off\n",
    "hog_feat = True # HOG features on or off\n",
    "y_start_stop = [400, 700] # Min and max in y to search in slide_window()"
   ]
  },
  {
   "cell_type": "code",
   "execution_count": 8,
   "metadata": {
    "collapsed": true
   },
   "outputs": [],
   "source": [
    "x=set(range(0,5))"
   ]
  },
  {
   "cell_type": "code",
   "execution_count": 11,
   "metadata": {},
   "outputs": [
    {
     "data": {
      "text/plain": [
       "{0, 1, 4}"
      ]
     },
     "execution_count": 11,
     "metadata": {},
     "output_type": "execute_result"
    }
   ],
   "source": [
    "x.difference(set([2,3]))"
   ]
  },
  {
   "cell_type": "code",
   "execution_count": 34,
   "metadata": {
    "collapsed": true
   },
   "outputs": [],
   "source": [
    "def train_test_split_with_GTI(X, y, group_id, test_size, random_state):\n",
    "    X_train_list = []\n",
    "    y_train_list = []\n",
    "    X_test_list = []\n",
    "    y_test_list = []\n",
    "    \n",
    "    for c_id in np.unique(group_id):\n",
    "        X_group = X[group_id == c_id,:]\n",
    "        y_group = y[group_id == c_id]\n",
    "        if c_id ==0:\n",
    "            # If this is KTTI data then, split it \n",
    "            X_train, X_test, y_train, y_test = train_test_split(\n",
    "                X_group, y_group, test_size=0.2, random_state=0, stratify=y_group)\n",
    "        else:         \n",
    "            np.random.seed(c_id)\n",
    "            test_index = np.mod(np.random.randint(0, X_group.shape[0]) + np.arange(0, int(X_group.shape[0] * test_size)),\n",
    "                                 X_group.shape[0])\n",
    "            train_index = list(set(range(0, X_group.shape[0])).difference(set(test_index)))\n",
    "            X_train = X_group[train_index,:]\n",
    "            X_test = X_group[test_index,:]\n",
    "            y_train = y_group[train_index]\n",
    "            y_test = y_group[test_index]\n",
    "            \n",
    "        X_train_list.append(X_train)\n",
    "        y_train_list.append(y_train)\n",
    "        X_test_list.append(X_test)\n",
    "        y_test_list.append(y_test)\n",
    "    return np.concatenate(X_train_list, axis=0), np.concatenate(X_test_list, axis=0), np.concatenate(y_train_list), np.concatenate(y_test_list)"
   ]
  },
  {
   "cell_type": "markdown",
   "metadata": {},
   "source": [
    "# experiment with HOG parameters"
   ]
  },
  {
   "cell_type": "code",
   "execution_count": null,
   "metadata": {
    "collapsed": true
   },
   "outputs": [],
   "source": []
  },
  {
   "cell_type": "code",
   "execution_count": 15,
   "metadata": {},
   "outputs": [
    {
     "name": "stderr",
     "output_type": "stream",
     "text": [
      "C:\\App\\conda\\envs\\carnd-term1\\lib\\site-packages\\skimage\\feature\\_hog.py:119: skimage_deprecation: Default value of `block_norm`==`L1` is deprecated and will be changed to `L2-Hys` in v0.15\n",
      "  'be changed to `L2-Hys` in v0.15', skimage_deprecation)\n"
     ]
    }
   ],
   "source": [
    "car_features = extract_features(vehicle_images, color_space=color_space, \n",
    "                        spatial_size=spatial_size, hist_bins=hist_bins, \n",
    "                        orient=orient, pix_per_cell=pix_per_cell, \n",
    "                        cell_per_block=cell_per_block, \n",
    "                        hog_channel=hog_channel, spatial_feat=spatial_feat, \n",
    "                        hist_feat=hist_feat, hog_feat=hog_feat)\n",
    "notcar_features = extract_features(non_vehicle_images, color_space=color_space, \n",
    "                        spatial_size=spatial_size, hist_bins=hist_bins, \n",
    "                        orient=orient, pix_per_cell=pix_per_cell, \n",
    "                        cell_per_block=cell_per_block, \n",
    "                        hog_channel=hog_channel, spatial_feat=spatial_feat, \n",
    "                        hist_feat=hist_feat, hog_feat=hog_feat)\n",
    "X = np.vstack((car_features, notcar_features)).astype(np.float64)                        \n",
    "X_scaler = StandardScaler().fit(X)\n",
    "scaled_X = X_scaler.transform(X)\n",
    "y = np.hstack((np.ones(len(car_features)), np.zeros(len(notcar_features))))"
   ]
  },
  {
   "cell_type": "code",
   "execution_count": 20,
   "metadata": {},
   "outputs": [],
   "source": [
    "group_id = np.concatenate([vehicle_group_id, non_vehicle_group_id])"
   ]
  },
  {
   "cell_type": "code",
   "execution_count": 25,
   "metadata": {},
   "outputs": [],
   "source": [
    "X_train, X_test, y_train, y_test = train_test_split_with_GTI(scaled_X, y, group_id, test_size=0.2, random_state=0)"
   ]
  },
  {
   "cell_type": "code",
   "execution_count": 27,
   "metadata": {},
   "outputs": [
    {
     "data": {
      "text/plain": [
       "(14211, 4704)"
      ]
     },
     "execution_count": 27,
     "metadata": {},
     "output_type": "execute_result"
    }
   ],
   "source": [
    "X_train.shape"
   ]
  },
  {
   "cell_type": "code",
   "execution_count": 29,
   "metadata": {},
   "outputs": [],
   "source": [
    "# Check the training time for the SVC\n",
    "clf = LinearSVC(penalty='l1', dual=False)\n",
    "t=time.time()\n",
    "clf.fit(X_train, y_train)\n",
    "t2 = time.time()"
   ]
  },
  {
   "cell_type": "code",
   "execution_count": 31,
   "metadata": {},
   "outputs": [
    {
     "name": "stdout",
     "output_type": "stream",
     "text": [
      "99.67 Seconds to train classifier...\n",
      "Train Accuracy of Classifier =  1.0\n",
      "Test Accuracy of Classifier =  0.9828\n"
     ]
    }
   ],
   "source": [
    "print(round(t2-t, 2), 'Seconds to train classifier...')\n",
    "# Check the score of the SVC\n",
    "print('Train Accuracy of Classifier = ', round(clf.score(X_train, y_train), 4))\n",
    "print('Test Accuracy of Classifier = ', round(clf.score(X_test, y_test), 4))\n",
    "# Check the prediction time for a single sample"
   ]
  },
  {
   "cell_type": "code",
   "execution_count": 41,
   "metadata": {
    "collapsed": true
   },
   "outputs": [],
   "source": [
    "group_id = np.concatenate([vehicle_group_id, non_vehicle_group_id]).astype(np.int64)\n",
    "color_space_choice = ['RGB','HSV','LUV','HLS','YUV','YCrCb']\n",
    "channel_choice = [0, 1, 2]"
   ]
  },
  {
   "cell_type": "code",
   "execution_count": null,
   "metadata": {},
   "outputs": [
    {
     "name": "stdout",
     "output_type": "stream",
     "text": [
      "('RGB', 0)\n"
     ]
    },
    {
     "name": "stderr",
     "output_type": "stream",
     "text": [
      "C:\\App\\conda\\envs\\carnd-term1\\lib\\site-packages\\skimage\\feature\\_hog.py:119: skimage_deprecation: Default value of `block_norm`==`L1` is deprecated and will be changed to `L2-Hys` in v0.15\n",
      "  'be changed to `L2-Hys` in v0.15', skimage_deprecation)\n"
     ]
    },
    {
     "name": "stdout",
     "output_type": "stream",
     "text": [
      "130.74 Seconds to train classifier...\n",
      "Train Accuracy of Classifier =  0.9995\n",
      "Test Accuracy of Classifier =  0.9327\n",
      "('RGB', 1)\n",
      "138.62 Seconds to train classifier...\n",
      "Train Accuracy of Classifier =  0.9999\n",
      "Test Accuracy of Classifier =  0.9391\n",
      "('RGB', 2)\n",
      "141.32 Seconds to train classifier...\n",
      "Train Accuracy of Classifier =  0.9998\n",
      "Test Accuracy of Classifier =  0.9383\n",
      "('HSV', 0)\n",
      "181.3 Seconds to train classifier...\n",
      "Train Accuracy of Classifier =  0.9839\n",
      "Test Accuracy of Classifier =  0.9132\n",
      "('HSV', 1)\n",
      "185.1 Seconds to train classifier...\n",
      "Train Accuracy of Classifier =  0.9858\n",
      "Test Accuracy of Classifier =  0.9132\n",
      "('HSV', 2)\n",
      "142.4 Seconds to train classifier...\n",
      "Train Accuracy of Classifier =  0.9999\n",
      "Test Accuracy of Classifier =  0.9383\n",
      "('LUV', 0)\n",
      "139.07 Seconds to train classifier...\n",
      "Train Accuracy of Classifier =  1.0\n",
      "Test Accuracy of Classifier =  0.9383\n",
      "('LUV', 1)\n",
      "158.71 Seconds to train classifier...\n",
      "Train Accuracy of Classifier =  0.9886\n",
      "Test Accuracy of Classifier =  0.9346\n",
      "('LUV', 2)\n",
      "227.56 Seconds to train classifier...\n",
      "Train Accuracy of Classifier =  0.97\n",
      "Test Accuracy of Classifier =  0.9166\n",
      "('HLS', 0)\n",
      "172.97 Seconds to train classifier...\n",
      "Train Accuracy of Classifier =  0.9836\n",
      "Test Accuracy of Classifier =  0.9138\n",
      "('HLS', 1)\n",
      "130.59 Seconds to train classifier...\n",
      "Train Accuracy of Classifier =  1.0\n",
      "Test Accuracy of Classifier =  0.9428\n",
      "('HLS', 2)\n",
      "204.05 Seconds to train classifier...\n",
      "Train Accuracy of Classifier =  0.9804\n",
      "Test Accuracy of Classifier =  0.9101\n",
      "('YUV', 0)\n",
      "133.9 Seconds to train classifier...\n",
      "Train Accuracy of Classifier =  1.0\n",
      "Test Accuracy of Classifier =  0.9417\n",
      "('YUV', 1)\n"
     ]
    }
   ],
   "source": [
    "result = {}\n",
    "\n",
    "for color_space in color_space_choice:\n",
    "    for hog_channel in channel_choice:\n",
    "        print((color_space, hog_channel))\n",
    "        car_features = extract_features(vehicle_images, color_space=color_space, \n",
    "                                spatial_size=spatial_size, hist_bins=hist_bins, \n",
    "                                orient=orient, pix_per_cell=pix_per_cell, \n",
    "                                cell_per_block=cell_per_block, \n",
    "                                hog_channel=hog_channel, spatial_feat=spatial_feat, \n",
    "                                hist_feat=hist_feat, hog_feat=hog_feat)\n",
    "        notcar_features = extract_features(non_vehicle_images, color_space=color_space, \n",
    "                                spatial_size=spatial_size, hist_bins=hist_bins, \n",
    "                                orient=orient, pix_per_cell=pix_per_cell, \n",
    "                                cell_per_block=cell_per_block, \n",
    "                                hog_channel=hog_channel, spatial_feat=spatial_feat, \n",
    "                                hist_feat=hist_feat, hog_feat=hog_feat)\n",
    "        X = np.vstack((car_features, notcar_features)).astype(np.float64)                        \n",
    "        X_scaler = StandardScaler().fit(X)\n",
    "        scaled_X = X_scaler.transform(X)\n",
    "        y = np.hstack((np.ones(len(car_features)), np.zeros(len(notcar_features))))\n",
    "        X_train, X_test, y_train, y_test = train_test_split_with_GTI(scaled_X, y, group_id, test_size=0.2, random_state=0)\n",
    "        # Check the training time for the SVC\n",
    "        clf = LinearSVC(penalty='l1', dual=False)\n",
    "        t=time.time()\n",
    "        clf.fit(X_train, y_train)\n",
    "        t2 = time.time()\n",
    "        print(round(t2-t, 2), 'Seconds to train classifier...')\n",
    "        # Check the score of the SVC\n",
    "        print('Train Accuracy of Classifier = ', round(clf.score(X_train, y_train), 4))\n",
    "        print('Test Accuracy of Classifier = ', round(clf.score(X_test, y_test), 4))\n",
    "        # Check the prediction time for a single sample\n",
    "        result[(color_space, hog_channel)] = {'train': clf.score(X_train, y_train),\n",
    "                                              'test': clf.score(X_test, y_test),\n",
    "                                              'clf': clf}\n",
    "        "
   ]
  },
  {
   "cell_type": "code",
   "execution_count": null,
   "metadata": {},
   "outputs": [],
   "source": [
    "y = np.hstack((np.ones(len(car_features)), np.zeros(len(notcar_features))))"
   ]
  },
  {
   "cell_type": "code",
   "execution_count": null,
   "metadata": {},
   "outputs": [],
   "source": [
    "# Split up data into randomized training and test sets\n",
    "rand_state = np.random.randint(0, 100)\n",
    "X_train, X_test, y_train, y_test = train_test_split(\n",
    "    scaled_X, y, test_size=0.2, random_state=0)"
   ]
  },
  {
   "cell_type": "code",
   "execution_count": null,
   "metadata": {},
   "outputs": [],
   "source": [
    "scaled_X.shape"
   ]
  },
  {
   "cell_type": "code",
   "execution_count": null,
   "metadata": {},
   "outputs": [],
   "source": [
    "# Use a linear SVC \n"
   ]
  },
  {
   "cell_type": "code",
   "execution_count": null,
   "metadata": {
    "collapsed": true
   },
   "outputs": [],
   "source": [
    "# Check the training time for the SVC\n",
    "t=time.time()\n",
    "clf.fit(X_train, y_train)\n",
    "t2 = time.time()"
   ]
  },
  {
   "cell_type": "code",
   "execution_count": null,
   "metadata": {},
   "outputs": [],
   "source": [
    "\n"
   ]
  },
  {
   "cell_type": "code",
   "execution_count": null,
   "metadata": {},
   "outputs": [],
   "source": [
    "image = cv2_readRGB('./test_images/test1.jpg')\n",
    "plt.figure()\n",
    "plt.imshow(image)"
   ]
  },
  {
   "cell_type": "code",
   "execution_count": null,
   "metadata": {},
   "outputs": [],
   "source": [
    "windows"
   ]
  },
  {
   "cell_type": "markdown",
   "metadata": {},
   "source": [
    "## Set windows"
   ]
  },
  {
   "cell_type": "code",
   "execution_count": null,
   "metadata": {
    "collapsed": true
   },
   "outputs": [],
   "source": [
    "windows1 = slide_window(image, x_start_stop=[None, None], y_start_stop=[400, 550], \n",
    "                         xy_window=(64, 64), xy_overlap=(0.5, 0.5))\n",
    "windows2 =slide_window(image, x_start_stop=[None, None], y_start_stop=[464, 600], \n",
    "                       xy_window=(96, 96), xy_overlap=(0.5, 0.5))\n",
    "windows3 =slide_window(image, x_start_stop=[None, None], y_start_stop=[496, 700], \n",
    "                       xy_window=(128, 128), xy_overlap=(0.5, 0.5))\n",
    "\n",
    "windows = windows1 + windows2 + windows3"
   ]
  },
  {
   "cell_type": "code",
   "execution_count": null,
   "metadata": {
    "scrolled": false
   },
   "outputs": [],
   "source": [
    "test_images = glob.glob('./test_images/*.jpg')\n",
    "for test_image in test_images:\n",
    "    draw_image = cv2_readRGB(test_image) \n",
    "    window_img = draw_boxes(draw_image, windows1, color=(0, 0, 255), thick=6)                    \n",
    "    window_img = draw_boxes(window_img, windows2, color=(0, 255, 0), thick=6)\n",
    "    window_img = draw_boxes(window_img, windows3, color=(255, 0, 0), thick=6) \n",
    "    plt.figure(figsize=(20,8))\n",
    "    plt.imshow(window_img)\n",
    "    plt.title(test_image)"
   ]
  },
  {
   "cell_type": "code",
   "execution_count": null,
   "metadata": {
    "scrolled": false
   },
   "outputs": [],
   "source": [
    "test_images = glob.glob('./test_images/*.jpg')\n",
    "for test_image in test_images:\n",
    "    image = cv2_readRGB(test_image) \n",
    "    draw_image = np.copy(image)\n",
    "\n",
    "    hot_windows = search_windows(image, windows, clf, X_scaler, color_space=color_space, \n",
    "                            spatial_size=spatial_size, hist_bins=hist_bins, \n",
    "                            orient=orient, pix_per_cell=pix_per_cell, \n",
    "                            cell_per_block=cell_per_block, \n",
    "                            hog_channel=hog_channel, spatial_feat=spatial_feat, \n",
    "                            hist_feat=hist_feat, hog_feat=hog_feat)                       \n",
    "\n",
    "    window_img = draw_boxes(draw_image, hot_windows, color=(0, 0, 255), thick=6)                    \n",
    "    plt.figure(figsize=(20,8))\n",
    "    plt.imshow(window_img)\n",
    "    plt.title(test_image)\n"
   ]
  },
  {
   "cell_type": "code",
   "execution_count": null,
   "metadata": {
    "collapsed": true
   },
   "outputs": [],
   "source": [
    "# test on GTI"
   ]
  },
  {
   "cell_type": "code",
   "execution_count": null,
   "metadata": {
    "collapsed": true
   },
   "outputs": [],
   "source": [
    "vehicle_GTI_dirs = ['./data/vehicles/GTI_Far/', './data/vehicles/GTI_Left/', './data/vehicles/GTI_MiddleClose/', './data/vehicles/GTI_Right/']\n",
    "vehicle_GTI_list = []\n",
    "for GTI_dir in vehicle_GTI_dirs:\n",
    "    vehicle_GTI_list = vehicle_GTI_list + glob.glob(GTI_dir + '*.png')  "
   ]
  },
  {
   "cell_type": "code",
   "execution_count": null,
   "metadata": {
    "collapsed": true
   },
   "outputs": [],
   "source": [
    "GTI_images =  [cv2_readRGB(w) for w in vehicle_GTI_list]\n",
    "                     \n"
   ]
  },
  {
   "cell_type": "code",
   "execution_count": null,
   "metadata": {},
   "outputs": [],
   "source": [
    "car_GTI_features = extract_features(GTI_images, color_space=color_space, \n",
    "                        spatial_size=spatial_size, hist_bins=hist_bins, \n",
    "                        orient=orient, pix_per_cell=pix_per_cell, \n",
    "                        cell_per_block=cell_per_block, \n",
    "                        hog_channel=hog_channel, spatial_feat=spatial_feat, \n",
    "                        hist_feat=hist_feat, hog_feat=hog_feat)"
   ]
  },
  {
   "cell_type": "code",
   "execution_count": null,
   "metadata": {
    "collapsed": true
   },
   "outputs": [],
   "source": [
    "X_GTI = np.vstack(car_GTI_features).astype(np.float64)   "
   ]
  },
  {
   "cell_type": "code",
   "execution_count": null,
   "metadata": {},
   "outputs": [],
   "source": [
    "np.mean(clf.predict(X_scaler.transform(X_GTI)))"
   ]
  },
  {
   "cell_type": "code",
   "execution_count": null,
   "metadata": {},
   "outputs": [],
   "source": [
    "s=np.where(clf.predict(X_scaler.transform(X_GTI))==0)[0]"
   ]
  },
  {
   "cell_type": "code",
   "execution_count": null,
   "metadata": {
    "scrolled": false
   },
   "outputs": [],
   "source": [
    "for u in s:\n",
    "    plt.figure()\n",
    "    plt.imshow(GTI_images[u])"
   ]
  },
  {
   "cell_type": "code",
   "execution_count": null,
   "metadata": {
    "collapsed": true
   },
   "outputs": [],
   "source": []
  }
 ],
 "metadata": {
  "kernelspec": {
   "display_name": "Python 3",
   "language": "python",
   "name": "python3"
  },
  "language_info": {
   "codemirror_mode": {
    "name": "ipython",
    "version": 3
   },
   "file_extension": ".py",
   "mimetype": "text/x-python",
   "name": "python",
   "nbconvert_exporter": "python",
   "pygments_lexer": "ipython3",
   "version": "3.5.2"
  },
  "widgets": {
   "state": {},
   "version": "1.1.2"
  }
 },
 "nbformat": 4,
 "nbformat_minor": 2
}
