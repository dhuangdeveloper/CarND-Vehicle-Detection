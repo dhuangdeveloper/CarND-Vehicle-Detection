{
 "cells": [
  {
   "cell_type": "code",
   "execution_count": 1,
   "metadata": {
    "collapsed": true
   },
   "outputs": [],
   "source": [
    "import matplotlib.image as mpimg\n",
    "import matplotlib.pyplot as plt\n",
    "%matplotlib inline"
   ]
  },
  {
   "cell_type": "code",
   "execution_count": 2,
   "metadata": {
    "collapsed": true
   },
   "outputs": [],
   "source": [
    "from lesson_functions import *\n",
    "import glob\n",
    "import time"
   ]
  },
  {
   "cell_type": "code",
   "execution_count": 3,
   "metadata": {
    "collapsed": true
   },
   "outputs": [],
   "source": [
    "from sklearn.svm import LinearSVC\n",
    "from sklearn.preprocessing import StandardScaler\n",
    "from sklearn.model_selection import train_test_split, PredefinedSplit, cross_val_predict, validation_curve\n",
    "from sklearn.ensemble import RandomForestClassifier\n",
    "from sklearn.model_selection import RandomizedSearchCV"
   ]
  },
  {
   "cell_type": "code",
   "execution_count": 4,
   "metadata": {
    "collapsed": true
   },
   "outputs": [],
   "source": [
    "def train_test_split_with_GTI(X, y, group_id, test_size, random_state):\n",
    "    X_train_list = []\n",
    "    y_train_list = []\n",
    "    X_test_list = []\n",
    "    y_test_list = []\n",
    "    \n",
    "    for c_id in np.unique(group_id):\n",
    "        X_group = X[group_id == c_id,:]\n",
    "        y_group = y[group_id == c_id]\n",
    "        if c_id ==0:\n",
    "            # If this is KTTI data then, split it \n",
    "            X_train, X_test, y_train, y_test = train_test_split(\n",
    "                X_group, y_group, test_size=0.2, random_state=0, stratify=y_group)\n",
    "        else:         \n",
    "            np.random.seed(c_id + random_state)\n",
    "            test_index = np.mod(np.random.randint(0, X_group.shape[0]) + np.arange(0, int(X_group.shape[0] * test_size)),\n",
    "                                 X_group.shape[0])\n",
    "            train_index = list(set(range(0, X_group.shape[0])).difference(set(test_index)))\n",
    "            X_train = X_group[train_index,:]\n",
    "            X_test = X_group[test_index,:]\n",
    "            y_train = y_group[train_index]\n",
    "            y_test = y_group[test_index]\n",
    "            \n",
    "        X_train_list.append(X_train)\n",
    "        y_train_list.append(y_train)\n",
    "        X_test_list.append(X_test)\n",
    "        y_test_list.append(y_test)\n",
    "    return np.concatenate(X_train_list, axis=0), np.concatenate(X_test_list, axis=0), np.concatenate(y_train_list), np.concatenate(y_test_list)"
   ]
  },
  {
   "cell_type": "code",
   "execution_count": 5,
   "metadata": {
    "collapsed": true
   },
   "outputs": [],
   "source": [
    "# create vehicle img list. We mark whether the data belongs to a certain GTI data directory.\n",
    "\n",
    "vehicle_GTI_dirs = ['./data/vehicles/GTI_Far/', './data/vehicles/GTI_Left/', './data/vehicles/GTI_MiddleClose/', './data/vehicles/GTI_Right/']\n",
    "vehicle_img_list = []\n",
    "GTI_group_ids = []\n",
    "cgroup_id = 1\n",
    "for GTI_dir in vehicle_GTI_dirs:\n",
    "    GTI_current_list = glob.glob(GTI_dir + '*.png')  \n",
    "    vehicle_img_list = vehicle_img_list + GTI_current_list   \n",
    "    GTI_group_ids = GTI_group_ids + [np.ones(len(GTI_current_list))*cgroup_id]\n",
    "    cgroup_id += 1\n",
    "KTTI_list = glob.glob('./data/vehicles/KITTI_extracted/*.png')\n",
    "vehicle_img_list = vehicle_img_list+ KTTI_list\n",
    "vehicle_group_id = np.concatenate(GTI_group_ids + [np.zeros(len(KTTI_list))])\n",
    "\n",
    "# create non vehicle img list and group ids for non-vehicle data\n",
    "non_vehicle_img_list = glob.glob('./data/non-vehicles/GTI/*.png') + glob.glob('./data/non-vehicles/Extras/*.png')\n",
    "non_vehicle_group_id = np.zeros(len(non_vehicle_img_list))\n",
    "\n",
    "# load all images\n",
    "vehicle_images =  [cv2_readRGB(w) for w in vehicle_img_list]\n",
    "non_vehicle_images =  [cv2_readRGB(w) for w in non_vehicle_img_list]\n",
    "group_id = np.concatenate([vehicle_group_id, non_vehicle_group_id]).astype(int)"
   ]
  },
  {
   "cell_type": "code",
   "execution_count": 6,
   "metadata": {
    "collapsed": true
   },
   "outputs": [],
   "source": [
    "from sklearn.utils import shuffle\n",
    "def obtain_fold_group(group_id,K):\n",
    "    # divide data into K folds and return the fold index each sample belongs to\n",
    "    test_fold_index = np.zeros_like(group_id)\n",
    "    for c_id in np.unique(group_id):\n",
    "        n_sample_in_group = np.sum(group_id == c_id)\n",
    "        if c_id ==0:\n",
    "            test_fold_index[group_id == c_id] = shuffle(np.floor_divide(np.arange(0, n_sample_in_group), np.ceil(n_sample_in_group/K)),random_state=0) \n",
    "        else:\n",
    "            test_fold_index[group_id == c_id] = np.floor_divide(np.arange(0, n_sample_in_group), np.ceil(n_sample_in_group/K))\n",
    "    return test_fold_index.astype(int)            "
   ]
  },
  {
   "cell_type": "code",
   "execution_count": 7,
   "metadata": {
    "collapsed": true
   },
   "outputs": [],
   "source": [
    "fold_indices = obtain_fold_group(group_id, 5)"
   ]
  },
  {
   "cell_type": "code",
   "execution_count": 8,
   "metadata": {
    "collapsed": false
   },
   "outputs": [
    {
     "data": {
      "image/png": "[encoded data removed]",
      "text/plain": [
       "<matplotlib.figure.Figure at 0x7f5be63f3fd0>"
      ]
     },
     "metadata": {},
     "output_type": "display_data"
    }
   ],
   "source": [
    "from scipy import stats\n",
    "test_fold_dist = stats.itemfreq(fold_indices)\n",
    "plt.bar(test_fold_dist[:,0], test_fold_dist[:,1])\n",
    "plt.title('Distribution of samples in test fold')\n",
    "plt.xlabel('Test fold index')\n",
    "plt.ylabel('Number of data per test fold')\n",
    "plt.savefig('./output_images/test_fold_distribution.png')"
   ]
  },
  {
   "cell_type": "code",
   "execution_count": 11,
   "metadata": {
    "collapsed": true
   },
   "outputs": [],
   "source": [
    "orient = 9  # HOG orientations\n",
    "pix_per_cell = 8 # HOG pixels per cell\n",
    "cell_per_block = 2 # HOG cells per block\n",
    "color_space = 'YUV'\n",
    "hog_channel = 'ALL' # Can be 0, 1, 2, or \"ALL\"\n",
    "spatial_size = (16, 16) # Spatial binning dimensions\n",
    "hist_bins = 16    # Number of histogram bins\n",
    "spatial_feat = True # Spatial features on or off\n",
    "hist_feat = True # Histogram features on or off\n",
    "hog_feat = True # HOG features on or off\n",
    "y_start_stop = [400, 700] # Min and max in y to search in slide_window()"
   ]
  },
  {
   "cell_type": "markdown",
   "metadata": {},
   "source": [
    "# Other feature parameter"
   ]
  },
  {
   "cell_type": "code",
   "execution_count": null,
   "metadata": {
    "collapsed": false,
    "scrolled": false
   },
   "outputs": [
    {
     "name": "stdout",
     "output_type": "stream",
     "text": [
      "(8, (16, 16))\n"
     ]
    },
    {
     "name": "stderr",
     "output_type": "stream",
     "text": [
      "Exception in thread Thread-4:\n",
      "Traceback (most recent call last):\n",
      "  File \"/home/carnd/anaconda3/envs/carnd-term1/lib/python3.5/threading.py\", line 914, in _bootstrap_inner\n",
      "    self.run()\n",
      "  File \"/home/carnd/anaconda3/envs/carnd-term1/lib/python3.5/threading.py\", line 862, in run\n",
      "    self._target(*self._args, **self._kwargs)\n",
      "  File \"/home/carnd/anaconda3/envs/carnd-term1/lib/python3.5/multiprocessing/pool.py\", line 366, in _handle_workers\n",
      "    pool._maintain_pool()\n",
      "  File \"/home/carnd/anaconda3/envs/carnd-term1/lib/python3.5/multiprocessing/pool.py\", line 240, in _maintain_pool\n",
      "    self._repopulate_pool()\n",
      "  File \"/home/carnd/anaconda3/envs/carnd-term1/lib/python3.5/multiprocessing/pool.py\", line 233, in _repopulate_pool\n",
      "    w.start()\n",
      "  File \"/home/carnd/anaconda3/envs/carnd-term1/lib/python3.5/multiprocessing/process.py\", line 105, in start\n",
      "    self._popen = self._Popen(self)\n",
      "  File \"/home/carnd/anaconda3/envs/carnd-term1/lib/python3.5/multiprocessing/context.py\", line 267, in _Popen\n",
      "    return Popen(process_obj)\n",
      "  File \"/home/carnd/anaconda3/envs/carnd-term1/lib/python3.5/multiprocessing/popen_fork.py\", line 20, in __init__\n",
      "    self._launch(process_obj)\n",
      "  File \"/home/carnd/anaconda3/envs/carnd-term1/lib/python3.5/multiprocessing/popen_fork.py\", line 67, in _launch\n",
      "    self.pid = os.fork()\n",
      "OSError: [Errno 12] Cannot allocate memory\n",
      "\n"
     ]
    }
   ],
   "source": [
    "result = {}\n",
    "\n",
    "for hist_bins in [8, 16, 32]:\n",
    "    for spatial_size in [(16,16), (32,32)]:\n",
    "        print((hist_bins, spatial_size))\n",
    "        car_features = extract_features(vehicle_images, color_space=color_space, \n",
    "                                spatial_size=spatial_size, hist_bins=hist_bins, \n",
    "                                orient=orient, pix_per_cell=pix_per_cell, \n",
    "                                cell_per_block=cell_per_block, \n",
    "                                hog_channel=hog_channel, spatial_feat=spatial_feat, \n",
    "                                hist_feat=hist_feat, hog_feat=hog_feat)\n",
    "        notcar_features = extract_features(non_vehicle_images, color_space=color_space, \n",
    "                                spatial_size=spatial_size, hist_bins=hist_bins, \n",
    "                                orient=orient, pix_per_cell=pix_per_cell, \n",
    "                                cell_per_block=cell_per_block, \n",
    "                                hog_channel=hog_channel, spatial_feat=spatial_feat, \n",
    "                                hist_feat=hist_feat, hog_feat=hog_feat)\n",
    "        X = np.vstack((car_features, notcar_features)).astype(np.float64)                        \n",
    "        X_scaler = StandardScaler().fit(X)\n",
    "        scaled_X = X_scaler.transform(X)\n",
    "        y = np.hstack((np.ones(len(car_features)), np.zeros(len(notcar_features))))\n",
    "\n",
    "        X_train_validate = scaled_X[fold_indices!=0,:]\n",
    "        y_train_validate = y[fold_indices!=0]\n",
    "        fold_train_validate = fold_indices[fold_indices!=0]        \n",
    "\n",
    "        clf = LinearSVC()\n",
    "        \n",
    "        # \n",
    "        t=time.time()\n",
    "        train_scores, test_scores = validation_curve(clf, X_train_validate, y_train_validate,\n",
    "                                                     'C', np.array([1.0]),\n",
    "                                                     cv= PredefinedSplit(fold_train_validate), n_jobs=5)\n",
    "        #X_train, X_test, y_train, y_test = train_test_split_with_GTI(scaled_X, y, group_id, test_size=0.2, random_state=0)\n",
    "        # Check the training time for the SVC                        \n",
    "        t2 = time.time()\n",
    "        print(round(t2-t, 2), 'Seconds to train classifier...')\n",
    "        # Check the score of the SVC\n",
    "        print('Train Accuracy of Classifier = ', round(np.mean(train_scores), 4))\n",
    "        print('Test Accuracy of Classifier = ', round(np.mean(test_scores), 4))\n",
    "        # Check the prediction time for a single sample\n",
    "        result[(hist_bins, spatial_size)] = {'train': train_scores,\n",
    "                                              'test': test_scores,\n",
    "                                              'scaler': X_scaler}\n",
    "result_l2 = result        "
   ]
  },
  {
   "cell_type": "code",
   "execution_count": null,
   "metadata": {
    "collapsed": false
   },
   "outputs": [],
   "source": [
    "import pandas as pd\n",
    "result_df_list = []\n",
    "for key, val in result.items():\n",
    "    result_df_list.append(pd.DataFrame({'train_accuracy': val['train'].mean(), 'train_std': val['train'].std(), 'test_accuracy': val['test'].mean(),\n",
    "                                        'test_std': val['test'].std()}, index=[key]))\n",
    "                 \n",
    "    \n",
    "result_df = pd.concat(result_df_list, axis=0)"
   ]
  },
  {
   "cell_type": "code",
   "execution_count": null,
   "metadata": {
    "collapsed": false
   },
   "outputs": [],
   "source": [
    "result_df.sort_values('test_accuracy', ascending=False)"
   ]
  },
  {
   "cell_type": "markdown",
   "metadata": {},
   "source": [
    "We observe that the top channels with best test accuracy is luminance Y in YUV/YCrCb color space. Other top results include L in LUV color space and V in HSV color space, of which both are closely related to Y, and RGB channels. We also observe that the other two channels in YUV / LUV has significantly worse performance. This all supports using Y channel for vehicle recognition. "
   ]
  },
  {
   "cell_type": "markdown",
   "metadata": {
    "collapsed": true
   },
   "source": [
    "## Examine Incorrectly Classified Image"
   ]
  },
  {
   "cell_type": "code",
   "execution_count": null,
   "metadata": {
    "collapsed": true
   },
   "outputs": [],
   "source": []
  },
  {
   "cell_type": "code",
   "execution_count": null,
   "metadata": {
    "collapsed": true
   },
   "outputs": [],
   "source": [
    "result = {}\n",
    "car_features = extract_features(vehicle_images, color_space=color_space, \n",
    "                        spatial_size=spatial_size, hist_bins=hist_bins, \n",
    "                        orient=orient, pix_per_cell=pix_per_cell, \n",
    "                        cell_per_block=cell_per_block, \n",
    "                        hog_channel=hog_channel, spatial_feat=spatial_feat, \n",
    "                        hist_feat=hist_feat, hog_feat=hog_feat)\n",
    "notcar_features = extract_features(non_vehicle_images, color_space=color_space, \n",
    "                        spatial_size=spatial_size, hist_bins=hist_bins, \n",
    "                        orient=orient, pix_per_cell=pix_per_cell, \n",
    "                        cell_per_block=cell_per_block, \n",
    "                        hog_channel=hog_channel, spatial_feat=spatial_feat, \n",
    "                        hist_feat=hist_feat, hog_feat=hog_feat)\n",
    "X = np.vstack((car_features, notcar_features)).astype(np.float64)                        \n",
    "X_scaler = StandardScaler().fit(X)\n",
    "scaled_X = X_scaler.transform(X)\n",
    "y = np.hstack((np.ones(len(car_features)), np.zeros(len(notcar_features))))\n",
    "\n",
    "X_train_validate = scaled_X[fold_indices!=0,:]\n",
    "y_train_validate = y[fold_indices!=0]\n",
    "fold_train_validate = fold_indices[fold_indices!=0]        \n",
    "\n",
    "clf = LinearSVC()\n",
    "\n",
    "# \n",
    "t=time.time()\n",
    "predicted_label = cross_val_predict(clf, X_train_validate, y_train_validate,\\\n",
    "                                    cv= PredefinedSplit(fold_train_validate), n_jobs=4)\n",
    "#X_train, X_test, y_train, y_test = train_test_split_with_GTI(scaled_X, y, group_id, test_size=0.2, random_state=0)\n",
    "# Check the training time for the SVC                        \n",
    "t2 = time.time()\n",
    "print(round(t2-t, 2), 'Seconds to train classifier...')\n",
    "# Check the score of the SVC\n",
    "print('Test Accuracy of Classifier = ', round(np.mean(predicted_label==y_train_validate), 4))\n",
    "# Check the prediction time for a single sample\n",
    "result[(hist_bins, spatial_size)] = {'train': train_scores,\n",
    "                                      'test': test_scores,\n",
    "                                      'scaler': X_scaler}\n"
   ]
  }
 ],
 "metadata": {
  "kernelspec": {
   "display_name": "Python 3",
   "language": "python",
   "name": "python3"
  },
  "language_info": {
   "codemirror_mode": {
    "name": "ipython",
    "version": 3
   },
   "file_extension": ".py",
   "mimetype": "text/x-python",
   "name": "python",
   "nbconvert_exporter": "python",
   "pygments_lexer": "ipython3",
   "version": "3.5.2"
  },
  "widgets": {
   "state": {},
   "version": "1.1.2"
  }
 },
 "nbformat": 4,
 "nbformat_minor": 2
}
